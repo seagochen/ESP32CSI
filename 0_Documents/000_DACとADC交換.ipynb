{
 "cells": [
  {
   "cell_type": "markdown",
   "metadata": {},
   "source": [
    "#  Digital to Analog Conversion\n",
    "\n",
    "Digital-to-Analog Conversion (DAC) is the process by which digital signals, which have discrete values (typically in binary form), are converted into analog signals, which have continuous values. This conversion is essential in many systems because while it's efficient to process or store signals in digital form, many real-world systems and processes still function in the analog domain.\n",
    "\n",
    "For example, the sound that we hear is analog. However, the music stored on your digital device (like an MP3 player or a smartphone) is in digital form. To listen to the music through speakers or headphones, the device must convert the digital music files into an analog signal, which is then fed into the speakers and heard as sound. This conversion is performed by a Digital-to-Analog Converter (DAC).\n",
    "\n",
    "A simple example of a DAC is the binary-weighted resistor network:\n",
    "\n",
    "1. A binary digital signal is fed as input.\n",
    "2. Each bit in the digital signal is assigned a specific voltage level based on its weight ($2^0$, $2^1$, $2^2$, etc.).\n",
    "3. Each bit controls a switch that connects a specific resistor to an output circuit.\n",
    "4. The voltages associated with the activated resistors (where the bit is a 1) are summed together to produce an analog output voltage.\n",
    "\n",
    "However, the binary-weighted method is one of the simplest ways to visualize a DAC, and in practice, many modern DACs use more complex methods and architectures like the R-2R ladder network, delta-sigma modulation, etc., to improve accuracy, resolution, and other performance metrics.\n",
    "\n",
    "On the flip side, the Analog-to-Digital Converter (ADC) does the opposite: it converts continuous analog signals to discrete digital values.\n",
    "\n",
    "\n",
    "## Mathematical Formulation:\n",
    "\n",
    "For a 4-bit DAC with input bits $( b_3, b_2, b_1, b_0)$, where $( b_3 )$ \n",
    "is the most significant bit (MSB) and $( b_0 )$ is the least significant bit (LSB), the analog output voltage $( V_{out} )$ can be formulated as:\n",
    "\n",
    "$$\n",
    "[ V_{out} = b_3 \\times V_{ref} \\times \\frac{8}{16} + b_2 \\times V_{ref} \\times \\frac{4}{16} + b_1 \\times V_{ref} \\times \\frac{2}{16} + b_0 \\times V_{ref} \\times \\frac{1}{16} ]\n",
    "$$\n",
    "\n",
    "Where:\n",
    "- $( V_{ref} )$ is the reference voltage of the DAC.\n",
    "- Each term represents the binary-weighted value for each bit.\n",
    "\n",
    "## Python Implementation:"
   ]
  },
  {
   "cell_type": "code",
   "execution_count": 2,
   "metadata": {},
   "outputs": [
    {
     "name": "stdout",
     "output_type": "stream",
     "text": [
      "For binary input 1010, the DAC output voltage is: 3.12 V\n",
      "For binary input 0101, the DAC output voltage is: 1.56 V\n",
      "For binary input 1111, the DAC output voltage is: 4.69 V\n",
      "For binary input 0000, the DAC output voltage is: 0.00 V\n"
     ]
    }
   ],
   "source": [
    "def dac_output(binary_input, V_ref):\n",
    "    \"\"\"\n",
    "    Calculate the output of a 4-bit DAC for a given binary input.\n",
    "\n",
    "    :param binary_input: A string of 4 bits, e.g., \"1010\".\n",
    "    :param V_ref: Reference voltage of the DAC.\n",
    "    :return: Analog output voltage.\n",
    "    \"\"\"\n",
    "    if len(binary_input) != 4 or not set(binary_input).issubset({\"0\", \"1\"}):\n",
    "        raise ValueError(\"binary_input must be a 4-bit binary string.\")\n",
    "\n",
    "    # Mapping each bit to its weighted value\n",
    "    weights = [8/16, 4/16, 2/16, 1/16]\n",
    "\n",
    "    V_out = sum(int(bit) * weight * V_ref for bit, weight in zip(binary_input, weights))\n",
    "    return V_out\n",
    "\n",
    "\n",
    "# Example:\n",
    "binary_input = [\"1010\", \"0101\", \"1111\", \"0000\"]\n",
    "V_ref = 5.0  # Let's assume the reference voltage is 5 volts.\n",
    "for b_input in binary_input:\n",
    "    output_voltage = dac_output(b_input, V_ref)\n",
    "    print(f\"For binary input {b_input}, the DAC output voltage is: {output_voltage:.2f} V\")"
   ]
  },
  {
   "cell_type": "markdown",
   "metadata": {},
   "source": [
    "# Analog to Digital Conversion\n",
    "\n",
    "Similarity, the Analog-to-Digital Converter (ADC) converts continuous analog signals to discrete digital values. The ADC is a critical component in many systems because while it's efficient to process or store signals in digital form, many real-world systems and processes still function in the analog domain.\n",
    "\n",
    "## Mathematical Formulation:\n",
    "\n",
    "For a simple 4-bit ADC with a full-scale reference voltage $( V_{ref} )$, the analog input voltage $( V_{in} )$ will be quantized into one of 16 (from $( 0 )$ to $( 2^4-1 )$) possible values. The range for each possible value (or \"quantization level\") is:\n",
    "\n",
    "$$\n",
    "[ \\Delta V = \\frac{V_{ref}}{2^4} ]\n",
    "$$\n",
    "\n",
    "The digital output will be the integer value of $( \\frac{V_{in}}{\\Delta V} )$, but it must not exceed $( 2^4-1 )$.\n",
    "\n",
    "## Python Implementation:\n",
    "\n"
   ]
  },
  {
   "cell_type": "code",
   "execution_count": 7,
   "metadata": {},
   "outputs": [
    {
     "name": "stdout",
     "output_type": "stream",
     "text": [
      "For input voltage 3.12 V, the ADC output is: 1010\n",
      "For input voltage 1.56 V, the ADC output is: 0101\n",
      "For input voltage 4.69 V, the ADC output is: 1111\n",
      "For input voltage 0.0 V, the ADC output is: 0000\n"
     ]
    }
   ],
   "source": [
    "def adc_output(V_in, V_ref):\n",
    "    \"\"\"\n",
    "    Calculate the output of a 4-bit ADC for a given analog input voltage.\n",
    "\n",
    "    :param V_in: Input analog voltage.\n",
    "    :param V_ref: Reference voltage of the ADC.\n",
    "    :return: 4-bit binary string representation.\n",
    "    \"\"\"\n",
    "    if V_in > V_ref:\n",
    "        raise ValueError(\"Input voltage exceeds reference voltage.\")\n",
    "    \n",
    "    quantization_levels = 2**4\n",
    "    delta_V = V_ref / quantization_levels\n",
    "    \n",
    "    digital_value = round(V_in / delta_V)  # Use rounding here\n",
    "    binary_output = format(digital_value, '04b')  # Convert to 4-bit binary string\n",
    "    \n",
    "    return binary_output\n",
    "\n",
    "\n",
    "# Example:\n",
    "V_in = [3.12, 1.56, 4.69, 0.00]\n",
    "V_ref = 5.0  # Reference voltage, same as before\n",
    "\n",
    "for v in V_in:\n",
    "    binary_output = adc_output(v, V_ref)\n",
    "    print(f\"For input voltage {v} V, the ADC output is: {binary_output}\")"
   ]
  },
  {
   "cell_type": "markdown",
   "metadata": {},
   "source": [
    "\n",
    "This program models a simple 4-bit ADC. Given an analog input voltage and a reference voltage, it provides the 4-bit binary representation of that voltage. Note that this is a very basic ADC model, and real-world ADCs will have many other factors like resolution, sampling rate, etc., to consider."
   ]
  }
 ],
 "metadata": {
  "kernelspec": {
   "display_name": "csi",
   "language": "python",
   "name": "python3"
  },
  "language_info": {
   "codemirror_mode": {
    "name": "ipython",
    "version": 3
   },
   "file_extension": ".py",
   "mimetype": "text/x-python",
   "name": "python",
   "nbconvert_exporter": "python",
   "pygments_lexer": "ipython3",
   "version": "3.8.16"
  },
  "orig_nbformat": 4
 },
 "nbformat": 4,
 "nbformat_minor": 2
}
